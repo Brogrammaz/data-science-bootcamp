{
 "cells": [
  {
   "cell_type": "code",
   "execution_count": 22,
   "id": "ef6a4151-e97f-419e-9f29-f9835ad06728",
   "metadata": {},
   "outputs": [
    {
     "data": {
      "text/plain": [
       "'/home/njogu/Desktop/Notebooks/lux-bootcamp'"
      ]
     },
     "execution_count": 22,
     "metadata": {},
     "output_type": "execute_result"
    }
   ],
   "source": [
    "pwd # to know the working directory."
   ]
  },
  {
   "cell_type": "code",
   "execution_count": 23,
   "id": "8481b17d-42b1-40f7-9681-f370e1d20e8d",
   "metadata": {},
   "outputs": [],
   "source": [
    "# Store current working directory in a variable.\n",
    "import os\n",
    "\n",
    "cwd = os.getcwd()"
   ]
  },
  {
   "cell_type": "code",
   "execution_count": 24,
   "id": "a5f1f769-e4e5-4525-b69b-015f23c894c4",
   "metadata": {},
   "outputs": [
    {
     "data": {
      "text/plain": [
       "'/home/njogu/Desktop/Notebooks/lux-bootcamp'"
      ]
     },
     "execution_count": 24,
     "metadata": {},
     "output_type": "execute_result"
    }
   ],
   "source": [
    "cwd"
   ]
  },
  {
   "cell_type": "code",
   "execution_count": 25,
   "id": "1c7f48fc-4814-479f-b2f0-b2d5982cc544",
   "metadata": {},
   "outputs": [],
   "source": [
    "# Use an all encompassing python library - pyforest. It imports the many common/regular.\n",
    "import pyforest"
   ]
  },
  {
   "cell_type": "code",
   "execution_count": 26,
   "id": "d75da6d2-2081-42d5-be5d-df5beaefcdec",
   "metadata": {},
   "outputs": [
    {
     "data": {
      "application/javascript": "\n        if (window._pyforest_update_imports_cell) { window._pyforest_update_imports_cell('import pandas as pd\\nimport seaborn as sns\\nimport matplotlib.pyplot as plt'); }\n    ",
      "text/plain": [
       "<IPython.core.display.Javascript object>"
      ]
     },
     "metadata": {},
     "output_type": "display_data"
    },
    {
     "data": {
      "text/html": [
       "<div>\n",
       "<style scoped>\n",
       "    .dataframe tbody tr th:only-of-type {\n",
       "        vertical-align: middle;\n",
       "    }\n",
       "\n",
       "    .dataframe tbody tr th {\n",
       "        vertical-align: top;\n",
       "    }\n",
       "\n",
       "    .dataframe thead th {\n",
       "        text-align: right;\n",
       "    }\n",
       "</style>\n",
       "<table border=\"1\" class=\"dataframe\">\n",
       "  <thead>\n",
       "    <tr style=\"text-align: right;\">\n",
       "      <th></th>\n",
       "      <th>Timestamp</th>\n",
       "      <th>Age</th>\n",
       "      <th>Gender</th>\n",
       "      <th>City</th>\n",
       "      <th>Position</th>\n",
       "      <th>Years of experience</th>\n",
       "      <th>Your level</th>\n",
       "      <th>Current Salary</th>\n",
       "      <th>Salary one year ago</th>\n",
       "      <th>Salary two years ago</th>\n",
       "      <th>Are you getting any Stock Options?</th>\n",
       "      <th>Main language at work</th>\n",
       "      <th>Company size</th>\n",
       "      <th>Company type</th>\n",
       "    </tr>\n",
       "  </thead>\n",
       "  <tbody>\n",
       "    <tr>\n",
       "      <th>0</th>\n",
       "      <td>14/12/2018 12:41:33</td>\n",
       "      <td>43.0</td>\n",
       "      <td>M</td>\n",
       "      <td>München</td>\n",
       "      <td>QA Ingenieur</td>\n",
       "      <td>11.0</td>\n",
       "      <td>Senior</td>\n",
       "      <td>77000.0</td>\n",
       "      <td>76200.0</td>\n",
       "      <td>68000.0</td>\n",
       "      <td>No</td>\n",
       "      <td>Deutsch</td>\n",
       "      <td>100-1000</td>\n",
       "      <td>Product</td>\n",
       "    </tr>\n",
       "    <tr>\n",
       "      <th>1</th>\n",
       "      <td>14/12/2018 12:42:09</td>\n",
       "      <td>33.0</td>\n",
       "      <td>F</td>\n",
       "      <td>München</td>\n",
       "      <td>Senior PHP Magento developer</td>\n",
       "      <td>8.0</td>\n",
       "      <td>Senior</td>\n",
       "      <td>65000.0</td>\n",
       "      <td>55000.0</td>\n",
       "      <td>55000.0</td>\n",
       "      <td>No</td>\n",
       "      <td>Deutsch</td>\n",
       "      <td>50-100</td>\n",
       "      <td>Product</td>\n",
       "    </tr>\n",
       "    <tr>\n",
       "      <th>2</th>\n",
       "      <td>14/12/2018 12:47:36</td>\n",
       "      <td>32.0</td>\n",
       "      <td>M</td>\n",
       "      <td>München</td>\n",
       "      <td>Software Engineer</td>\n",
       "      <td>10.0</td>\n",
       "      <td>Senior</td>\n",
       "      <td>88000.0</td>\n",
       "      <td>73000.0</td>\n",
       "      <td>54000.0</td>\n",
       "      <td>No</td>\n",
       "      <td>Deutsch</td>\n",
       "      <td>1000+</td>\n",
       "      <td>Product</td>\n",
       "    </tr>\n",
       "    <tr>\n",
       "      <th>3</th>\n",
       "      <td>14/12/2018 12:50:15</td>\n",
       "      <td>25.0</td>\n",
       "      <td>M</td>\n",
       "      <td>München</td>\n",
       "      <td>Senior Frontend Developer</td>\n",
       "      <td>6.0</td>\n",
       "      <td>Senior</td>\n",
       "      <td>78000.0</td>\n",
       "      <td>55000.0</td>\n",
       "      <td>45000.0</td>\n",
       "      <td>Yes</td>\n",
       "      <td>English</td>\n",
       "      <td>1000+</td>\n",
       "      <td>Product</td>\n",
       "    </tr>\n",
       "    <tr>\n",
       "      <th>4</th>\n",
       "      <td>14/12/2018 12:50:31</td>\n",
       "      <td>39.0</td>\n",
       "      <td>M</td>\n",
       "      <td>München</td>\n",
       "      <td>UX Designer</td>\n",
       "      <td>10.0</td>\n",
       "      <td>Senior</td>\n",
       "      <td>69000.0</td>\n",
       "      <td>60000.0</td>\n",
       "      <td>52000.0</td>\n",
       "      <td>No</td>\n",
       "      <td>English</td>\n",
       "      <td>100-1000</td>\n",
       "      <td>Ecom retailer</td>\n",
       "    </tr>\n",
       "    <tr>\n",
       "      <th>5</th>\n",
       "      <td>14/12/2018 12:52:24</td>\n",
       "      <td>37.0</td>\n",
       "      <td>M</td>\n",
       "      <td>München</td>\n",
       "      <td>Project Manager</td>\n",
       "      <td>8.0</td>\n",
       "      <td>Senior</td>\n",
       "      <td>98000.0</td>\n",
       "      <td>96000.0</td>\n",
       "      <td>96000.0</td>\n",
       "      <td>Yes</td>\n",
       "      <td>Deutsch</td>\n",
       "      <td>1000+</td>\n",
       "      <td>Insurance</td>\n",
       "    </tr>\n",
       "    <tr>\n",
       "      <th>6</th>\n",
       "      <td>14/12/2018 12:53:47</td>\n",
       "      <td>NaN</td>\n",
       "      <td>M</td>\n",
       "      <td>Berlin</td>\n",
       "      <td>Senior Android Developer</td>\n",
       "      <td>5.0</td>\n",
       "      <td>Senior</td>\n",
       "      <td>65000.0</td>\n",
       "      <td>50000.0</td>\n",
       "      <td>50000.0</td>\n",
       "      <td>Yes</td>\n",
       "      <td>English</td>\n",
       "      <td>1000+</td>\n",
       "      <td>Product</td>\n",
       "    </tr>\n",
       "    <tr>\n",
       "      <th>7</th>\n",
       "      <td>14/12/2018 12:53:47</td>\n",
       "      <td>36.0</td>\n",
       "      <td>F</td>\n",
       "      <td>München</td>\n",
       "      <td>Data science team lead</td>\n",
       "      <td>8.0</td>\n",
       "      <td>Senior</td>\n",
       "      <td>109000.0</td>\n",
       "      <td>105000.0</td>\n",
       "      <td>97000.0</td>\n",
       "      <td>Yes</td>\n",
       "      <td>English</td>\n",
       "      <td>1000+</td>\n",
       "      <td>NaN</td>\n",
       "    </tr>\n",
       "    <tr>\n",
       "      <th>8</th>\n",
       "      <td>14/12/2018 12:54:20</td>\n",
       "      <td>32.0</td>\n",
       "      <td>M</td>\n",
       "      <td>Berlin</td>\n",
       "      <td>Test Automation Engineer</td>\n",
       "      <td>3.0</td>\n",
       "      <td>Senior</td>\n",
       "      <td>65000.0</td>\n",
       "      <td>58000.0</td>\n",
       "      <td>50000.0</td>\n",
       "      <td>Yes</td>\n",
       "      <td>English</td>\n",
       "      <td>100-1000</td>\n",
       "      <td>Startup</td>\n",
       "    </tr>\n",
       "    <tr>\n",
       "      <th>9</th>\n",
       "      <td>14/12/2018 12:55:44</td>\n",
       "      <td>30.0</td>\n",
       "      <td>M</td>\n",
       "      <td>München</td>\n",
       "      <td>Frontend Developer</td>\n",
       "      <td>8.0</td>\n",
       "      <td>Senior</td>\n",
       "      <td>60000.0</td>\n",
       "      <td>48000.0</td>\n",
       "      <td>42000.0</td>\n",
       "      <td>No</td>\n",
       "      <td>Deutsch</td>\n",
       "      <td>100-1000</td>\n",
       "      <td>Agency</td>\n",
       "    </tr>\n",
       "  </tbody>\n",
       "</table>\n",
       "</div>"
      ],
      "text/plain": [
       "             Timestamp   Age Gender     City                       Position  \\\n",
       "0  14/12/2018 12:41:33  43.0      M  München                   QA Ingenieur   \n",
       "1  14/12/2018 12:42:09  33.0      F  München  Senior PHP Magento developer    \n",
       "2  14/12/2018 12:47:36  32.0      M  München              Software Engineer   \n",
       "3  14/12/2018 12:50:15  25.0      M  München      Senior Frontend Developer   \n",
       "4  14/12/2018 12:50:31  39.0      M  München                    UX Designer   \n",
       "5  14/12/2018 12:52:24  37.0      M  München                Project Manager   \n",
       "6  14/12/2018 12:53:47   NaN      M   Berlin       Senior Android Developer   \n",
       "7  14/12/2018 12:53:47  36.0      F  München         Data science team lead   \n",
       "8  14/12/2018 12:54:20  32.0      M   Berlin       Test Automation Engineer   \n",
       "9  14/12/2018 12:55:44  30.0      M  München             Frontend Developer   \n",
       "\n",
       "   Years of experience Your level  Current Salary  Salary one year ago  \\\n",
       "0                 11.0     Senior         77000.0              76200.0   \n",
       "1                  8.0     Senior         65000.0              55000.0   \n",
       "2                 10.0     Senior         88000.0              73000.0   \n",
       "3                  6.0     Senior         78000.0              55000.0   \n",
       "4                 10.0     Senior         69000.0              60000.0   \n",
       "5                  8.0     Senior         98000.0              96000.0   \n",
       "6                  5.0     Senior         65000.0              50000.0   \n",
       "7                  8.0     Senior        109000.0             105000.0   \n",
       "8                  3.0     Senior         65000.0              58000.0   \n",
       "9                  8.0     Senior         60000.0              48000.0   \n",
       "\n",
       "   Salary two years ago Are you getting any Stock Options?  \\\n",
       "0               68000.0                                 No   \n",
       "1               55000.0                                 No   \n",
       "2               54000.0                                 No   \n",
       "3               45000.0                                Yes   \n",
       "4               52000.0                                 No   \n",
       "5               96000.0                                Yes   \n",
       "6               50000.0                                Yes   \n",
       "7               97000.0                                Yes   \n",
       "8               50000.0                                Yes   \n",
       "9               42000.0                                 No   \n",
       "\n",
       "  Main language at work Company size   Company type  \n",
       "0               Deutsch     100-1000        Product  \n",
       "1               Deutsch       50-100        Product  \n",
       "2               Deutsch        1000+        Product  \n",
       "3               English        1000+        Product  \n",
       "4               English     100-1000  Ecom retailer  \n",
       "5               Deutsch        1000+      Insurance  \n",
       "6               English        1000+        Product  \n",
       "7               English        1000+            NaN  \n",
       "8               English     100-1000        Startup  \n",
       "9               Deutsch     100-1000         Agency  "
      ]
     },
     "execution_count": 26,
     "metadata": {},
     "output_type": "execute_result"
    }
   ],
   "source": [
    "# Load the data into a dataframe.\n",
    "df = pd.read_csv(f\"{cwd}/IT Salary Survey EU 2018.csv\")\n",
    "\n",
    "# Check to 10 rows of the data set\n",
    "df.head(10)"
   ]
  },
  {
   "cell_type": "code",
   "execution_count": 27,
   "id": "ed331757-40f9-480f-a014-fa27f019b21a",
   "metadata": {},
   "outputs": [
    {
     "data": {
      "text/plain": [
       "(765, 14)"
      ]
     },
     "execution_count": 27,
     "metadata": {},
     "output_type": "execute_result"
    }
   ],
   "source": [
    "# No. of rows and columns\n",
    "df.shape"
   ]
  },
  {
   "cell_type": "markdown",
   "id": "5a0665c1-76b8-456f-8447-221004fcde6a",
   "metadata": {},
   "source": [
    "* The dataset has **765** entries (***Rows***) and **14** Fields (***Columns***)"
   ]
  },
  {
   "cell_type": "code",
   "execution_count": 28,
   "id": "6f871400-7e66-432e-9af0-1866ae184db7",
   "metadata": {},
   "outputs": [
    {
     "data": {
      "text/html": [
       "<div>\n",
       "<style scoped>\n",
       "    .dataframe tbody tr th:only-of-type {\n",
       "        vertical-align: middle;\n",
       "    }\n",
       "\n",
       "    .dataframe tbody tr th {\n",
       "        vertical-align: top;\n",
       "    }\n",
       "\n",
       "    .dataframe thead th {\n",
       "        text-align: right;\n",
       "    }\n",
       "</style>\n",
       "<table border=\"1\" class=\"dataframe\">\n",
       "  <thead>\n",
       "    <tr style=\"text-align: right;\">\n",
       "      <th></th>\n",
       "      <th>Age</th>\n",
       "      <th>Years of experience</th>\n",
       "      <th>Current Salary</th>\n",
       "      <th>Salary one year ago</th>\n",
       "      <th>Salary two years ago</th>\n",
       "    </tr>\n",
       "  </thead>\n",
       "  <tbody>\n",
       "    <tr>\n",
       "      <th>count</th>\n",
       "      <td>672.000000</td>\n",
       "      <td>732.000000</td>\n",
       "      <td>750.000000</td>\n",
       "      <td>596.000000</td>\n",
       "      <td>463.000000</td>\n",
       "    </tr>\n",
       "    <tr>\n",
       "      <th>mean</th>\n",
       "      <td>32.183036</td>\n",
       "      <td>8.548497</td>\n",
       "      <td>68381.765333</td>\n",
       "      <td>62187.278523</td>\n",
       "      <td>58013.475162</td>\n",
       "    </tr>\n",
       "    <tr>\n",
       "      <th>std</th>\n",
       "      <td>5.107268</td>\n",
       "      <td>4.729557</td>\n",
       "      <td>21196.306557</td>\n",
       "      <td>20163.008663</td>\n",
       "      <td>20413.048908</td>\n",
       "    </tr>\n",
       "    <tr>\n",
       "      <th>min</th>\n",
       "      <td>21.000000</td>\n",
       "      <td>0.000000</td>\n",
       "      <td>10300.000000</td>\n",
       "      <td>10001.000000</td>\n",
       "      <td>10001.000000</td>\n",
       "    </tr>\n",
       "    <tr>\n",
       "      <th>25%</th>\n",
       "      <td>29.000000</td>\n",
       "      <td>5.000000</td>\n",
       "      <td>57000.000000</td>\n",
       "      <td>52000.000000</td>\n",
       "      <td>48000.000000</td>\n",
       "    </tr>\n",
       "    <tr>\n",
       "      <th>50%</th>\n",
       "      <td>32.000000</td>\n",
       "      <td>8.000000</td>\n",
       "      <td>65000.000000</td>\n",
       "      <td>60000.000000</td>\n",
       "      <td>56000.000000</td>\n",
       "    </tr>\n",
       "    <tr>\n",
       "      <th>75%</th>\n",
       "      <td>35.000000</td>\n",
       "      <td>11.000000</td>\n",
       "      <td>75000.000000</td>\n",
       "      <td>70000.000000</td>\n",
       "      <td>67000.000000</td>\n",
       "    </tr>\n",
       "    <tr>\n",
       "      <th>max</th>\n",
       "      <td>60.000000</td>\n",
       "      <td>38.000000</td>\n",
       "      <td>200000.000000</td>\n",
       "      <td>200000.000000</td>\n",
       "      <td>150000.000000</td>\n",
       "    </tr>\n",
       "  </tbody>\n",
       "</table>\n",
       "</div>"
      ],
      "text/plain": [
       "              Age  Years of experience  Current Salary  Salary one year ago  \\\n",
       "count  672.000000           732.000000      750.000000           596.000000   \n",
       "mean    32.183036             8.548497    68381.765333         62187.278523   \n",
       "std      5.107268             4.729557    21196.306557         20163.008663   \n",
       "min     21.000000             0.000000    10300.000000         10001.000000   \n",
       "25%     29.000000             5.000000    57000.000000         52000.000000   \n",
       "50%     32.000000             8.000000    65000.000000         60000.000000   \n",
       "75%     35.000000            11.000000    75000.000000         70000.000000   \n",
       "max     60.000000            38.000000   200000.000000        200000.000000   \n",
       "\n",
       "       Salary two years ago  \n",
       "count            463.000000  \n",
       "mean           58013.475162  \n",
       "std            20413.048908  \n",
       "min            10001.000000  \n",
       "25%            48000.000000  \n",
       "50%            56000.000000  \n",
       "75%            67000.000000  \n",
       "max           150000.000000  "
      ]
     },
     "execution_count": 28,
     "metadata": {},
     "output_type": "execute_result"
    }
   ],
   "source": [
    "# EDD - Extended Data Dictionary.\n",
    "df.describe()"
   ]
  },
  {
   "cell_type": "markdown",
   "id": "bda78f3e-3ee3-4f50-92a6-ddbba5c7ccb5",
   "metadata": {},
   "source": [
    "* There are **Five Numerical** variables and therefore **Nine Non-numerical** fields in this dataset.\n",
    "\n",
    "* All numerical fields contain **empty** values.\n",
    "\n",
    "* **Oldest Employee** ---- 60 years.\n",
    "* **Youngest Employee** -- 21 Years.\n",
    "* **Average Age** -------- 32 Years.\n",
    "\n",
    "* **Highest earning** ---- 200,000.00\n",
    "* **Lowest Earning** ----- 10,300.00"
   ]
  },
  {
   "cell_type": "code",
   "execution_count": 29,
   "id": "2f62bb3d-ed52-4ab0-b3eb-4764ead0fc68",
   "metadata": {},
   "outputs": [
    {
     "name": "stdout",
     "output_type": "stream",
     "text": [
      "<class 'pandas.core.frame.DataFrame'>\n",
      "RangeIndex: 765 entries, 0 to 764\n",
      "Data columns (total 14 columns):\n",
      " #   Column                              Non-Null Count  Dtype  \n",
      "---  ------                              --------------  -----  \n",
      " 0   Timestamp                           765 non-null    object \n",
      " 1   Age                                 672 non-null    float64\n",
      " 2   Gender                              751 non-null    object \n",
      " 3   City                                736 non-null    object \n",
      " 4   Position                            737 non-null    object \n",
      " 5   Years of experience                 732 non-null    float64\n",
      " 6   Your level                          743 non-null    object \n",
      " 7   Current Salary                      750 non-null    float64\n",
      " 8   Salary one year ago                 596 non-null    float64\n",
      " 9   Salary two years ago                463 non-null    float64\n",
      " 10  Are you getting any Stock Options?  742 non-null    object \n",
      " 11  Main language at work               750 non-null    object \n",
      " 12  Company size                        750 non-null    object \n",
      " 13  Company type                        730 non-null    object \n",
      "dtypes: float64(5), object(9)\n",
      "memory usage: 83.8+ KB\n"
     ]
    }
   ],
   "source": [
    "# Columns with the total entry counts and their data types .\n",
    "df.info()"
   ]
  },
  {
   "cell_type": "code",
   "execution_count": 30,
   "id": "b0e07a11-d93a-4e86-a95f-20772e10864a",
   "metadata": {},
   "outputs": [
    {
     "data": {
      "text/plain": [
       "['Timestamp',\n",
       " 'Age',\n",
       " 'Gender',\n",
       " 'City',\n",
       " 'Position',\n",
       " 'Years of experience',\n",
       " 'Your level',\n",
       " 'Current Salary',\n",
       " 'Salary one year ago',\n",
       " 'Salary two years ago',\n",
       " 'Are you getting any Stock Options?',\n",
       " 'Main language at work',\n",
       " 'Company size',\n",
       " 'Company type']"
      ]
     },
     "execution_count": 30,
     "metadata": {},
     "output_type": "execute_result"
    }
   ],
   "source": [
    "# List columns\n",
    "cols = df.columns.to_list()\n",
    "cols"
   ]
  },
  {
   "cell_type": "code",
   "execution_count": 31,
   "id": "9ccf6851-4d5e-46e7-95a0-08cd01098d9b",
   "metadata": {},
   "outputs": [
    {
     "data": {
      "text/plain": [
       "['Age',\n",
       " 'Years of experience',\n",
       " 'Current Salary',\n",
       " 'Salary one year ago',\n",
       " 'Salary two years ago']"
      ]
     },
     "execution_count": 31,
     "metadata": {},
     "output_type": "execute_result"
    }
   ],
   "source": [
    "# Numeric Columns\n",
    "numeric_cols = [cols[x] for x in range(0,len(cols)) if df[cols[x]].dtype == 'float64']\n",
    "\n",
    "numeric_cols"
   ]
  },
  {
   "cell_type": "code",
   "execution_count": 32,
   "id": "2cb9012c-7ebf-44e1-bb7b-40c6777716c4",
   "metadata": {},
   "outputs": [
    {
     "data": {
      "text/plain": [
       "['Timestamp',\n",
       " 'Gender',\n",
       " 'City',\n",
       " 'Position',\n",
       " 'Your level',\n",
       " 'Are you getting any Stock Options?',\n",
       " 'Main language at work',\n",
       " 'Company size',\n",
       " 'Company type']"
      ]
     },
     "execution_count": 32,
     "metadata": {},
     "output_type": "execute_result"
    }
   ],
   "source": [
    "# Non-numeric Columns\n",
    "non_numeric_cols = [cols[y] for y in range(0,len(cols)) if cols[y] not in numeric_cols]\n",
    "non_numeric_cols"
   ]
  },
  {
   "cell_type": "code",
   "execution_count": 33,
   "id": "506636e0-a22f-43a7-8a3e-85b8ddf01bd8",
   "metadata": {},
   "outputs": [
    {
     "data": {
      "text/plain": [
       "['M', 'F', nan]"
      ]
     },
     "execution_count": 33,
     "metadata": {},
     "output_type": "execute_result"
    }
   ],
   "source": [
    "# unigue values in the Gender Column.\n",
    "df['Gender'].unique().tolist()"
   ]
  },
  {
   "cell_type": "code",
   "execution_count": 34,
   "id": "0d04f5ff-b821-4310-8279-2ea73319ba93",
   "metadata": {},
   "outputs": [
    {
     "name": "stdout",
     "output_type": "stream",
     "text": [
      "['München', 'Berlin', 'Karlsruhe', 'Hamburg', 'Augsburg ', 'Bremen', 'Frankfurt', nan, 'Regensburg', 'Lisbon', 'Leipzig', 'Stuttgart', 'Amsterdam', 'Luxembourg', 'Bern', 'Bonn', 'Köln', 'Baden-Württemberg ', 'Frankonia', 'Stuttgart ', 'Mannheim ', 'Bayern', 'Tübingen', 'Brno', 'Dresden', 'Krakow', 'Dublin', 'Eindhoven', 'Amsterdam ', 'Konstanz', 'Dublin ', 'Prague', 'Moscow', 'Stockholm', 'Belgrade, Serbia', 'Kyiv', 'Nürnberg', 'Karlskrona', 'Krakau', 'Vienna', 'London', 'Bitburg', 'Gdansk', 'Poland', 'Düsseldorf', 'Ludwigsburg', 'Essen', 'Strasbourg', 'Alicante, Spain', 'Warsaw', 'Memmingen', 'Tallinn', 'Zurich', 'oslo', 'Münster', 'Hildesheim', 'Krakow, Poland', 'Rosenheim', 'Darmstadt', 'bremen', 'Brussels', 'Nürnberg ', 'Schleswig-Holstein', 'Riga', 'Koblenz', 'homeoffice', 'Limassol', 'saint petersburg', 'Erlangen', 'Siegen', 'Remote Germany', 'Ireland, Dublin', 'Oberhausen', 'estonia', 'Andernach']\n",
      "-===============-\n",
      " Total ---> 75\n"
     ]
    }
   ],
   "source": [
    "# Individual Cities.\n",
    "cities = df['City'].unique().tolist()\n",
    "print(cities)\n",
    "print(\"-===============-\")\n",
    "print(f\" Total ---> {len(cities)}\")"
   ]
  },
  {
   "cell_type": "code",
   "execution_count": 35,
   "id": "8894f17f-0d15-4e89-a962-7666dcb4c582",
   "metadata": {},
   "outputs": [
    {
     "name": "stdout",
     "output_type": "stream",
     "text": [
      "['Deutsch', 'English', 'Russian', 'French', 'Team - Russian; Cross-team - English;', 'Polish', nan, 'Deutsch/Englisch']\n",
      "-===============-\n",
      " Total ---> 8\n"
     ]
    }
   ],
   "source": [
    "# Main Languages Spoken at Work.\n",
    "languages = df['Main language at work'].unique().tolist()\n",
    "print(languages)\n",
    "print(\"-===============-\")\n",
    "print(f\" Total ---> {len(languages)}\")"
   ]
  },
  {
   "cell_type": "code",
   "execution_count": 36,
   "id": "708ac625-a042-4244-b642-2b4b7ad78d91",
   "metadata": {},
   "outputs": [
    {
     "name": "stdout",
     "output_type": "stream",
     "text": [
      "['Senior', 'Middle', 'Junior', nan]\n",
      "-===============-\n",
      " Total ---> 4\n"
     ]
    }
   ],
   "source": [
    "# Levels at Work.\n",
    "job_levels = df['Your level'].unique().tolist()\n",
    "print(job_levels)\n",
    "print(\"-===============-\")\n",
    "print(f\" Total ---> {len(job_levels)}\")"
   ]
  },
  {
   "cell_type": "code",
   "execution_count": 37,
   "id": "a21be6d8-9ff4-4588-9475-ee252126eaa4",
   "metadata": {},
   "outputs": [
    {
     "name": "stdout",
     "output_type": "stream",
     "text": [
      "['Product', 'Ecom retailer', 'Insurance', nan, 'Startup', 'Agency', 'Big Tech', 'Consultancy', 'Corporation', 'Outsource', 'Industry', 'E-Commerce firm', 'Consulting', 'Internal development for a non-IT company', 'Personaldienstleister', 'ipo', 'e-commerce', 'Product and Projects', 'E-Commerce', 'Development', 'Consulting Company', 'IT Dienstleistungen ', 'Manufacturing', 'Stock market ', 'telecom operator', 'Ecommerce', 'Outsourcing', 'Outsorce', 'consulting', 'GmbH', 'IT Consulting ', 'IT Consultancy ', 'IT Service Provider', 'non-IT, manufacturing', 'Bank ', 'IT-Beratung', 'Technology Consulting', 'outsource', 'IT Consultants', 'Hochschule/university', 'ISP', 'Fin Tech', 'Blockchain technology', 'Retail', 'Consult', 'Project-based software development', 'Automotive', 'OEM', 'Consulting (banking)', 'IT Consulting']\n",
      "-===============-\n",
      " Total ---> 50\n"
     ]
    }
   ],
   "source": [
    "#  Unique company types.\n",
    "company_types = df['Company type'].unique().tolist()\n",
    "print(company_types)\n",
    "print(\"-===============-\")\n",
    "print(f\" Total ---> {len(company_types)}\")"
   ]
  },
  {
   "cell_type": "code",
   "execution_count": 38,
   "id": "309b0872-b4c5-4651-9075-287920380510",
   "metadata": {},
   "outputs": [],
   "source": [
    "\"\"\"\n",
    "    Visualize some the spread of elements in columns with variables less than 10 unique values.\n",
    "    i.e ['Your level', 'Main language at work', 'Gender', 'Are you getting any Stock Options?']\n",
    "\"\"\"\n",
    "plot_list = ['Your level', 'Main language at work', 'Gender', 'Are you getting any Stock Options?']"
   ]
  },
  {
   "cell_type": "code",
   "execution_count": 39,
   "id": "6ba56a2c-e656-4aaf-b1e0-0a661dd7e8e3",
   "metadata": {},
   "outputs": [
    {
     "data": {
      "application/javascript": "\n        if (window._pyforest_update_imports_cell) { window._pyforest_update_imports_cell('import pandas as pd\\nimport seaborn as sns\\nimport matplotlib.pyplot as plt'); }\n    ",
      "text/plain": [
       "<IPython.core.display.Javascript object>"
      ]
     },
     "metadata": {},
     "output_type": "display_data"
    },
    {
     "data": {
      "application/javascript": "\n        if (window._pyforest_update_imports_cell) { window._pyforest_update_imports_cell('import pandas as pd\\nimport seaborn as sns\\nimport matplotlib.pyplot as plt'); }\n    ",
      "text/plain": [
       "<IPython.core.display.Javascript object>"
      ]
     },
     "metadata": {},
     "output_type": "display_data"
    },
    {
     "data": {
      "application/javascript": "\n        if (window._pyforest_update_imports_cell) { window._pyforest_update_imports_cell('import pandas as pd\\nimport seaborn as sns\\nimport matplotlib.pyplot as plt'); }\n    ",
      "text/plain": [
       "<IPython.core.display.Javascript object>"
      ]
     },
     "metadata": {},
     "output_type": "display_data"
    },
    {
     "data": {
      "application/javascript": "\n        if (window._pyforest_update_imports_cell) { window._pyforest_update_imports_cell('import pandas as pd\\nimport seaborn as sns\\nimport matplotlib.pyplot as plt'); }\n    ",
      "text/plain": [
       "<IPython.core.display.Javascript object>"
      ]
     },
     "metadata": {},
     "output_type": "display_data"
    },
    {
     "data": {
      "application/javascript": "\n        if (window._pyforest_update_imports_cell) { window._pyforest_update_imports_cell('import pandas as pd\\nimport seaborn as sns\\nimport matplotlib.pyplot as plt'); }\n    ",
      "text/plain": [
       "<IPython.core.display.Javascript object>"
      ]
     },
     "metadata": {},
     "output_type": "display_data"
    },
    {
     "data": {
      "application/javascript": "\n        if (window._pyforest_update_imports_cell) { window._pyforest_update_imports_cell('import pandas as pd\\nimport seaborn as sns\\nimport matplotlib.pyplot as plt'); }\n    ",
      "text/plain": [
       "<IPython.core.display.Javascript object>"
      ]
     },
     "metadata": {},
     "output_type": "display_data"
    },
    {
     "data": {
      "application/javascript": "\n        if (window._pyforest_update_imports_cell) { window._pyforest_update_imports_cell('import pandas as pd\\nimport seaborn as sns\\nimport matplotlib.pyplot as plt'); }\n    ",
      "text/plain": [
       "<IPython.core.display.Javascript object>"
      ]
     },
     "metadata": {},
     "output_type": "display_data"
    },
    {
     "data": {
      "application/javascript": "\n        if (window._pyforest_update_imports_cell) { window._pyforest_update_imports_cell('import pandas as pd\\nimport seaborn as sns\\nimport matplotlib.pyplot as plt'); }\n    ",
      "text/plain": [
       "<IPython.core.display.Javascript object>"
      ]
     },
     "metadata": {},
     "output_type": "display_data"
    },
    {
     "data": {
      "application/javascript": "\n        if (window._pyforest_update_imports_cell) { window._pyforest_update_imports_cell('import pandas as pd\\nimport seaborn as sns\\nimport matplotlib.pyplot as plt'); }\n    ",
      "text/plain": [
       "<IPython.core.display.Javascript object>"
      ]
     },
     "metadata": {},
     "output_type": "display_data"
    },
    {
     "data": {
      "image/png": "[encoded data removed]",
      "text/plain": [
       "<Figure size 1440x1800 with 4 Axes>"
      ]
     },
     "metadata": {},
     "output_type": "display_data"
    }
   ],
   "source": [
    "plt.figure(figsize=(20,25))\n",
    "for i in enumerate(plot_list):\n",
    "    plt.subplot(3,2,i[0]+1)\n",
    "    sns.countplot(x=i[1], data=df)"
   ]
  },
  {
   "cell_type": "markdown",
   "id": "6053fe03-09e6-4748-bad8-4b9cde584861",
   "metadata": {},
   "source": [
    "### Plots Analysis.\n",
    "\n",
    "* There were more replies from senior level practitioners, then the middle level and a handful of junior techies.\n",
    "\n",
    "* English is the preferred communication language in the work place, with Deutsch and Russian having fair popularity.\n",
    "\n",
    "* More male technologists participated in the survey.\n",
    "\n",
    "* Generally Tech organizations are not generous with stocks as renumeration to their employees."
   ]
  },
  {
   "cell_type": "markdown",
   "id": "c284dbaf-0e1b-4f06-9f8b-847b18482a8a",
   "metadata": {},
   "source": [
    "## Correlation\n",
    "* Use the Correlation Matrix to identify the variables with High correlation and Low Correlation."
   ]
  },
  {
   "cell_type": "code",
   "execution_count": 40,
   "id": "9c270da1-86de-4ebd-9f4c-5f398d5aecfd",
   "metadata": {},
   "outputs": [
    {
     "data": {
      "text/html": [
       "<div>\n",
       "<style scoped>\n",
       "    .dataframe tbody tr th:only-of-type {\n",
       "        vertical-align: middle;\n",
       "    }\n",
       "\n",
       "    .dataframe tbody tr th {\n",
       "        vertical-align: top;\n",
       "    }\n",
       "\n",
       "    .dataframe thead th {\n",
       "        text-align: right;\n",
       "    }\n",
       "</style>\n",
       "<table border=\"1\" class=\"dataframe\">\n",
       "  <thead>\n",
       "    <tr style=\"text-align: right;\">\n",
       "      <th></th>\n",
       "      <th>Age</th>\n",
       "      <th>Years of experience</th>\n",
       "      <th>Current Salary</th>\n",
       "      <th>Salary one year ago</th>\n",
       "      <th>Salary two years ago</th>\n",
       "    </tr>\n",
       "  </thead>\n",
       "  <tbody>\n",
       "    <tr>\n",
       "      <th>Age</th>\n",
       "      <td>1.000000</td>\n",
       "      <td>0.669573</td>\n",
       "      <td>0.250284</td>\n",
       "      <td>0.295843</td>\n",
       "      <td>0.314234</td>\n",
       "    </tr>\n",
       "    <tr>\n",
       "      <th>Years of experience</th>\n",
       "      <td>0.669573</td>\n",
       "      <td>1.000000</td>\n",
       "      <td>0.411662</td>\n",
       "      <td>0.423607</td>\n",
       "      <td>0.437610</td>\n",
       "    </tr>\n",
       "    <tr>\n",
       "      <th>Current Salary</th>\n",
       "      <td>0.250284</td>\n",
       "      <td>0.411662</td>\n",
       "      <td>1.000000</td>\n",
       "      <td>0.882679</td>\n",
       "      <td>0.823719</td>\n",
       "    </tr>\n",
       "    <tr>\n",
       "      <th>Salary one year ago</th>\n",
       "      <td>0.295843</td>\n",
       "      <td>0.423607</td>\n",
       "      <td>0.882679</td>\n",
       "      <td>1.000000</td>\n",
       "      <td>0.934377</td>\n",
       "    </tr>\n",
       "    <tr>\n",
       "      <th>Salary two years ago</th>\n",
       "      <td>0.314234</td>\n",
       "      <td>0.437610</td>\n",
       "      <td>0.823719</td>\n",
       "      <td>0.934377</td>\n",
       "      <td>1.000000</td>\n",
       "    </tr>\n",
       "  </tbody>\n",
       "</table>\n",
       "</div>"
      ],
      "text/plain": [
       "                           Age  Years of experience  Current Salary  \\\n",
       "Age                   1.000000             0.669573        0.250284   \n",
       "Years of experience   0.669573             1.000000        0.411662   \n",
       "Current Salary        0.250284             0.411662        1.000000   \n",
       "Salary one year ago   0.295843             0.423607        0.882679   \n",
       "Salary two years ago  0.314234             0.437610        0.823719   \n",
       "\n",
       "                      Salary one year ago  Salary two years ago  \n",
       "Age                              0.295843              0.314234  \n",
       "Years of experience              0.423607              0.437610  \n",
       "Current Salary                   0.882679              0.823719  \n",
       "Salary one year ago              1.000000              0.934377  \n",
       "Salary two years ago             0.934377              1.000000  "
      ]
     },
     "execution_count": 40,
     "metadata": {},
     "output_type": "execute_result"
    }
   ],
   "source": [
    "df.corr()"
   ]
  },
  {
   "cell_type": "markdown",
   "id": "77980f21-c34b-4cb2-a500-8519a06499ee",
   "metadata": {},
   "source": [
    "* **High Correlation** in relation with Current Salary\n",
    "    * Salary one year ago.\n",
    "    * Salary two years ago.\n",
    "\n",
    "* **Low Correlation** in relation with Current Salary.\n",
    "    * Age.\n",
    "    * Years of experience."
   ]
  },
  {
   "cell_type": "markdown",
   "id": "47e4eaf2-e341-426f-8641-d408b85c649e",
   "metadata": {},
   "source": [
    "## Multi~Collinearity\n",
    "* Is a state where there is high correlation between two independent variables. \n",
    "* It is not in the best interest of a good model to have both variables due to their high correlation and therefore, they have equal effect on model yet are almost similar in data sets.\n",
    "* To solve this problem, using the Correlational Matrix, identify the independent variables with high correlation then among them identify the one with low correlation with the dependent variable and eliminate it. \n",
    "* However, business intelligence and experience are paramount before making thei decision.\n",
    "* Example - Salary one year ago and Salary two years ago (0.934377)\n",
    "* Eliminate Salary two years ago (0.823719)"
   ]
  },
  {
   "cell_type": "markdown",
   "id": "deb0a223-e507-4099-91b8-a813fcced393",
   "metadata": {},
   "source": [
    "## Distribution Plots "
   ]
  },
  {
   "cell_type": "code",
   "execution_count": 41,
   "id": "98c92db8-fe7b-4a8f-ba4a-8a7913561b9b",
   "metadata": {},
   "outputs": [
    {
     "data": {
      "application/javascript": "\n        if (window._pyforest_update_imports_cell) { window._pyforest_update_imports_cell('import pandas as pd\\nimport seaborn as sns\\nimport matplotlib.pyplot as plt'); }\n    ",
      "text/plain": [
       "<IPython.core.display.Javascript object>"
      ]
     },
     "metadata": {},
     "output_type": "display_data"
    },
    {
     "data": {
      "application/javascript": "\n        if (window._pyforest_update_imports_cell) { window._pyforest_update_imports_cell('import pandas as pd\\nimport seaborn as sns\\nimport matplotlib.pyplot as plt'); }\n    ",
      "text/plain": [
       "<IPython.core.display.Javascript object>"
      ]
     },
     "metadata": {},
     "output_type": "display_data"
    },
    {
     "name": "stderr",
     "output_type": "stream",
     "text": [
      "/home/njogu/anaconda3/lib/python3.8/site-packages/seaborn/distributions.py:2557: FutureWarning: `distplot` is a deprecated function and will be removed in a future version. Please adapt your code to use either `displot` (a figure-level function with similar flexibility) or `histplot` (an axes-level function for histograms).\n",
      "  warnings.warn(msg, FutureWarning)\n"
     ]
    },
    {
     "data": {
      "text/plain": [
       "<AxesSubplot:xlabel='Years of experience'>"
      ]
     },
     "execution_count": 41,
     "metadata": {},
     "output_type": "execute_result"
    },
    {
     "data": {
      "image/png": "[encoded data removed]",
      "text/plain": [
       "<Figure size 432x288 with 1 Axes>"
      ]
     },
     "metadata": {},
     "output_type": "display_data"
    }
   ],
   "source": [
    "sns.set_style('whitegrid')\n",
    "sns.distplot(df['Years of experience'], kde = False, color ='red', bins = 15)"
   ]
  },
  {
   "cell_type": "code",
   "execution_count": 42,
   "id": "854c5dee-86fa-4fcc-a581-18c808fd525c",
   "metadata": {},
   "outputs": [
    {
     "data": {
      "application/javascript": "\n        if (window._pyforest_update_imports_cell) { window._pyforest_update_imports_cell('import pandas as pd\\nimport seaborn as sns\\nimport matplotlib.pyplot as plt'); }\n    ",
      "text/plain": [
       "<IPython.core.display.Javascript object>"
      ]
     },
     "metadata": {},
     "output_type": "display_data"
    },
    {
     "data": {
      "application/javascript": "\n        if (window._pyforest_update_imports_cell) { window._pyforest_update_imports_cell('import pandas as pd\\nimport seaborn as sns\\nimport matplotlib.pyplot as plt'); }\n    ",
      "text/plain": [
       "<IPython.core.display.Javascript object>"
      ]
     },
     "metadata": {},
     "output_type": "display_data"
    },
    {
     "data": {
      "text/plain": [
       "<AxesSubplot:xlabel='Age'>"
      ]
     },
     "execution_count": 42,
     "metadata": {},
     "output_type": "execute_result"
    },
    {
     "data": {
      "image/png": "[encoded data removed]",
      "text/plain": [
       "<Figure size 432x288 with 1 Axes>"
      ]
     },
     "metadata": {},
     "output_type": "display_data"
    }
   ],
   "source": [
    "sns.set_style('whitegrid')\n",
    "sns.distplot(df['Age'], kde = False, color ='green', bins = 10)"
   ]
  },
  {
   "cell_type": "code",
   "execution_count": null,
   "id": "c2067797-5fa8-4b7e-9fe0-a879ea36c99e",
   "metadata": {},
   "outputs": [],
   "source": []
  },
  {
   "cell_type": "code",
   "execution_count": null,
   "id": "b1fe4150-ae48-4dab-965f-82245035ebdf",
   "metadata": {},
   "outputs": [],
   "source": []
  }
 ],
 "metadata": {
  "kernelspec": {
   "display_name": "Python 3",
   "language": "python",
   "name": "python3"
  },
  "language_info": {
   "codemirror_mode": {
    "name": "ipython",
    "version": 3
   },
   "file_extension": ".py",
   "mimetype": "text/x-python",
   "name": "python",
   "nbconvert_exporter": "python",
   "pygments_lexer": "ipython3",
   "version": "3.8.8"
  },
  "vscode": {
   "interpreter": {
    "hash": "916dbcbb3f70747c44a77c7bcd40155683ae19c65e1c03b4aa3499c5328201f1"
   }
  }
 },
 "nbformat": 4,
 "nbformat_minor": 5
}
