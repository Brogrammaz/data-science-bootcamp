{
 "cells": [
  {
   "attachments": {},
   "cell_type": "markdown",
   "metadata": {},
   "source": [
    "## Building an ETL Pipeline for Cryptocurrency data.\n",
    "\n",
    "- Begin by drawing data in **CSV** format.\n",
    "- Transform/Manipulate the Data.\n",
    "- Load Data into an SQL Database.\n",
    "\n",
    "- Data Source --- https://raw.githubusercontent.com/diljeet1994/Python_Tutorials/master/Projects/Advanced%20ETL/crypto-markets.csv"
   ]
  },
  {
   "cell_type": "code",
   "execution_count": null,
   "metadata": {},
   "outputs": [],
   "source": [
    "import os\n",
    "\n",
    "# Current working directory\n",
    "cwd = os.getcwd()\n",
    "cwd"
   ]
  },
  {
   "cell_type": "code",
   "execution_count": null,
   "metadata": {},
   "outputs": [],
   "source": [
    "# Import all the Pyforest utility Libraries.\n",
    "from pyforest import *\n",
    "\n",
    "# Retrieve raw data using Pandas.\n",
    "crypto_df = pd.read_csv(f\"{cwd}/crypto-markets.csv\")\n",
    "crypto_df.head(10)"
   ]
  },
  {
   "attachments": {},
   "cell_type": "markdown",
   "metadata": {},
   "source": [
    "\n",
    "- The prices of these Currencies are in USD. \n",
    "- We need to convert [BTC, ETH, XRP, LTC] currency values into YEN.\n",
    "- This then calls for The transformation process.\n",
    "    \n",
    "- We shall iterate through the price columns [open, close, high, low] and multiply values with 134.56\n",
    "\n",
    "\n",
    "\n"
   ]
  },
  {
   "cell_type": "code",
   "execution_count": null,
   "metadata": {},
   "outputs": [],
   "source": [
    "currency_code = ['BTC','ETH','XRP','LTC']\n",
    "\n",
    "crypto_df['open'] = crypto_df[['open','asset']].apply(lambda x: (float(x[0]) * 134.56) if x[1] in currency_code else np.nan, axis=1)\n",
    "crypto_df['close'] = crypto_df[['close','asset']].apply(lambda x: (float(x[0]) * 134.56) if x[1] in currency_code else np.nan, axis=1)\n",
    "crypto_df['low'] = crypto_df[['low','asset']].apply(lambda x: (float(x[0]) * 134.56) if x[1] in currency_code else np.nan, axis=1)\n",
    "crypto_df['high'] = crypto_df[['high','asset']].apply(lambda x: (float(x[0]) * 134.56) if x[1] in currency_code else np.nan, axis=1)\n",
    "\n",
    "# drop entries with null values\n",
    "crypto_df.dropna(inplace=True)\n",
    "\n",
    "# reset the dataframe index\n",
    "crypto_df.reset_index(drop=True, inplace=True)\n",
    "crypto_df.head(20)"
   ]
  },
  {
   "cell_type": "code",
   "execution_count": null,
   "metadata": {},
   "outputs": [],
   "source": [
    "crypto_df"
   ]
  },
  {
   "cell_type": "code",
   "execution_count": null,
   "metadata": {},
   "outputs": [],
   "source": [
    "# Lets filter only the data-points that we find relevant. [asset, name, open, high, low, close].\n",
    "# We drop other columns\n",
    "\n",
    "crypto_df = crypto_df[['asset','name','date','open','high','low','close']]\n",
    "crypto_df.head(20)\n"
   ]
  },
  {
   "attachments": {},
   "cell_type": "markdown",
   "metadata": {},
   "source": [
    "- Having done the relevant transformations, it is then time to load the data into an SQL Database (sqlite3)."
   ]
  },
  {
   "cell_type": "code",
   "execution_count": null,
   "metadata": {},
   "outputs": [],
   "source": [
    "import sqlite3\n",
    "\n",
    "# open connection to the database file.\n",
    "conn = sqlite3.connect('session.db')\n",
    "print(conn)\n"
   ]
  },
  {
   "cell_type": "code",
   "execution_count": null,
   "metadata": {},
   "outputs": [],
   "source": [
    "# Drop the table name you would like to assign to your table pif it exists.\n",
    "\n",
    "try:\n",
    "    conn.execute('DROP TABLE IF EXISTS `Crypto_data`')\n",
    "except Exception as e:\n",
    "    raise(e)\n",
    "finally:\n",
    "    # ascertain the table has been dropped\n",
    "    print(\"Dropped table\")"
   ]
  },
  {
   "cell_type": "code",
   "execution_count": null,
   "metadata": {},
   "outputs": [],
   "source": [
    "# Create a table called `Crypto_data`\n",
    "try:\n",
    "    conn.execute('''\n",
    "    CREATE TABLE Crypto_data(\n",
    "    ASSET   TEXT,\n",
    "    NAME    TEXT NOT NULL,\n",
    "    Date    datetime,\n",
    "    Open     Float DEFAULT 0,\n",
    "    High    Float DEFAULT 0,\n",
    "    Low     Float DEFAULT 0,\n",
    "    Close   Float DEFAULT 0\n",
    "    );\n",
    "    ''')\n",
    "    print(\"Table Created\")\n",
    "\n",
    "except Exception as e:\n",
    "    print(str(e))\n",
    "    print(\"Process Failed!\")\n",
    "finally:\n",
    "    # Close the Database connection.\n",
    "    conn.close()"
   ]
  },
  {
   "cell_type": "code",
   "execution_count": null,
   "metadata": {},
   "outputs": [],
   "source": [
    "# Convert the pandas dataframe into a list, to allow for the \n",
    "# sqlite module to allow insertion of data.\n",
    "\n",
    "crypto_list = crypto_df.values.tolist()\n",
    "crypto_list"
   ]
  },
  {
   "cell_type": "code",
   "execution_count": null,
   "metadata": {},
   "outputs": [],
   "source": [
    "# Execute a connection to the database.\n",
    "conn = sqlite3.connect('session.db')\n",
    "\n",
    "# create a cursor, this helps with quering the sql database.\n",
    "cur = conn.cursor()\n",
    "\n",
    "try:\n",
    "    cur.executemany(\"INSERT INTO Crypto_data (ASSET, NAME, Date, Open, High, Low, Close) VALUES (?,?,?,?,?,?,?)\", crypto_list)\n",
    "    conn.commit()\n",
    "    print('Data Inserted Successfully')\n",
    "except Exception as e:\n",
    "    print(str(e))\n",
    "    raise(e)\n",
    "    print(\"Insertion Failed!!\")\n",
    "finally:\n",
    "    # close the DB connection.\n",
    "    conn.close()"
   ]
  }
 ],
 "metadata": {
  "kernelspec": {
   "display_name": "base",
   "language": "python",
   "name": "python3"
  },
  "language_info": {
   "codemirror_mode": {
    "name": "ipython",
    "version": 3
   },
   "file_extension": ".py",
   "mimetype": "text/x-python",
   "name": "python",
   "nbconvert_exporter": "python",
   "pygments_lexer": "ipython3",
   "version": "3.8.8"
  },
  "orig_nbformat": 4
 },
 "nbformat": 4,
 "nbformat_minor": 2
}
